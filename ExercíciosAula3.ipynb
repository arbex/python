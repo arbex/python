{
  "nbformat": 4,
  "nbformat_minor": 0,
  "metadata": {
    "colab": {
      "name": "ExercíciosAula3.ipynb",
      "provenance": [],
      "authorship_tag": "ABX9TyMR0Y466cb+0AKMd018EFEQ",
      "include_colab_link": true
    },
    "kernelspec": {
      "name": "python3",
      "display_name": "Python 3"
    },
    "language_info": {
      "name": "python"
    }
  },
  "cells": [
    {
      "cell_type": "markdown",
      "metadata": {
        "id": "view-in-github",
        "colab_type": "text"
      },
      "source": [
        "<a href=\"https://colab.research.google.com/github/arbex/python/blob/main/Exerc%C3%ADciosAula3.ipynb\" target=\"_parent\"><img src=\"https://colab.research.google.com/assets/colab-badge.svg\" alt=\"Open In Colab\"/></a>"
      ]
    },
    {
      "cell_type": "markdown",
      "metadata": {
        "id": "C9OopP49N5iZ"
      },
      "source": [
        "**Exercício1:**\n",
        "Crie uma funcão que tome um argumento e imprima o valor e o tipo dele."
      ]
    },
    {
      "cell_type": "code",
      "metadata": {
        "colab": {
          "base_uri": "https://localhost:8080/"
        },
        "id": "M1cXFe-Ad9AQ",
        "outputId": "4c074ce8-cf84-46be-e0c8-9d6e45492828"
      },
      "source": [
        "def multiplicacao(x,y): \n",
        "  multiplicacao = x*y\n",
        "  print(multiplicacao)\n",
        "\n",
        "print(multiplicacao)\n",
        "multiplicacao(3,3)"
      ],
      "execution_count": 6,
      "outputs": [
        {
          "output_type": "stream",
          "text": [
            "<function multiplicacao at 0x7fa2a3c4c4d0>\n",
            "9\n"
          ],
          "name": "stdout"
        }
      ]
    },
    {
      "cell_type": "markdown",
      "metadata": {
        "id": "MDBtYMviPzGR"
      },
      "source": [
        "**Exercício2:**\n",
        "Crie uma função que calcule e imprima velocidade media de um objeto a partir de uma posição inicial, a final e o tempo transcorrido para um objeto em MRU. Também crie uma funcão que calcule e imprima a velocidade de um objeto a partir da aceleração constante e o tempo (MRUA) (p.ex. queda libre)."
      ]
    },
    {
      "cell_type": "code",
      "metadata": {
        "colab": {
          "base_uri": "https://localhost:8080/",
          "height": 138
        },
        "id": "7xMnE0zafxMu",
        "outputId": "1915768e-fde5-4bdf-8843-9e7fd5395059"
      },
      "source": [
        "#Função que calcule e imprime velocidade media de um objeto a partir de uma posição inicial, a final e o tempo transcorrido para um objeto em MRU:\n",
        "\n",
        "def velocidade_media(si,sf,ti,tf):\n",
        "velocidade_media = (sf - si)/(tf - ti)\n",
        "print(velocidade_media)\n",
        "\n",
        "print(velocidade_media)\n",
        "velocidade_media(3,3,5,5)\n",
        "\n"
      ],
      "execution_count": 23,
      "outputs": [
        {
          "output_type": "error",
          "ename": "IndentationError",
          "evalue": "ignored",
          "traceback": [
            "\u001b[0;36m  File \u001b[0;32m\"<ipython-input-23-3676e34d8c3e>\"\u001b[0;36m, line \u001b[0;32m4\u001b[0m\n\u001b[0;31m    velocidade_media = (sf - si)/(tf - ti)\u001b[0m\n\u001b[0m                   ^\u001b[0m\n\u001b[0;31mIndentationError\u001b[0m\u001b[0;31m:\u001b[0m expected an indented block\n"
          ]
        }
      ]
    },
    {
      "cell_type": "markdown",
      "metadata": {
        "id": "rtVgtB9-Uz1y"
      },
      "source": [
        "**Exercício3:**\n",
        "Crie uma funcão para calcular o ángulo zenital do sol (da semana passada) tomando como argumento as medidas da altura e o comprimento da sombra."
      ]
    },
    {
      "cell_type": "code",
      "metadata": {
        "colab": {
          "base_uri": "https://localhost:8080/"
        },
        "id": "omt33PsLkwe7",
        "outputId": "37377b43-e051-4b69-9b8d-dcb6d6b368a3"
      },
      "source": [
        "from math import *\n",
        "def angulo_zenital(h,comprimento_sombra): \n",
        "  angulo_zenital = atan(comprimento_sombra/h)\n",
        "  print(angulo_zenital)\n",
        "\n",
        "print(angulo_zenital)\n",
        "angulo_zenital(5,0.5)"
      ],
      "execution_count": 29,
      "outputs": [
        {
          "output_type": "stream",
          "text": [
            "<function angulo_zenital at 0x7fa2a3bd4320>\n",
            "0.09966865249116204\n"
          ],
          "name": "stdout"
        }
      ]
    },
    {
      "cell_type": "markdown",
      "metadata": {
        "id": "EvQFpEWBVimf"
      },
      "source": [
        "**Exercício4:**\n",
        "Crie uma função que faça a conversão de uma medida inicialmente em milhas para m, e outra para o inverso; uma de horas para segundos, e o inverso. Utilize estas funções para resolver novamente o primeiro exercício da semana passada (da corrida). Se uma pessoa demora 30 minutos em 4 milhas, qual velocidade media em km/h ? e o tempo medio por kilometro?"
      ]
    },
    {
      "cell_type": "code",
      "metadata": {
        "colab": {
          "base_uri": "https://localhost:8080/"
        },
        "id": "JtEMGNVhmI8e",
        "outputId": "2d84e9cb-71f3-4ee6-de62-78e5d127217b"
      },
      "source": [
        "#Função conversão de uma medida em milhas para m\n",
        "\n",
        "def milhas_para_metros(valor_em_milhas):\n",
        "  valor_em_metros = valor_em_milhas * 1609.34\n",
        "  print(valor_em_metros ,'metros')\n",
        "\n",
        "\n",
        "milhas_para_metros(540)"
      ],
      "execution_count": 35,
      "outputs": [
        {
          "output_type": "stream",
          "text": [
            "869043.6 metros\n"
          ],
          "name": "stdout"
        }
      ]
    },
    {
      "cell_type": "code",
      "metadata": {
        "colab": {
          "base_uri": "https://localhost:8080/"
        },
        "id": "tPLoNCTJn6vJ",
        "outputId": "ac5f9a2f-6f30-4cfa-b047-0bc1290afb48"
      },
      "source": [
        "#Função conversão de uma medida em metros para milhas\n",
        "def metros_para_milhas(valor_em_metros):\n",
        "  valor_em_milhas = valor_em_metros / 1609.34\n",
        "  print(valor_em_milhas ,'milhas')\n",
        "\n",
        "\n",
        "metros_para_milhas(540)"
      ],
      "execution_count": 36,
      "outputs": [
        {
          "output_type": "stream",
          "text": [
            "0.33554127779089565 milhas\n"
          ],
          "name": "stdout"
        }
      ]
    },
    {
      "cell_type": "code",
      "metadata": {
        "colab": {
          "base_uri": "https://localhost:8080/"
        },
        "id": "ymi8E4hhpeI5",
        "outputId": "d12fb158-1778-4c75-ee6f-31a45a898c83"
      },
      "source": [
        "#Função conversão de uma medida em horas para segundos\n",
        "def horas_para_segundos(valor_em_segundos):\n",
        "  valor_em_horas = valor_em_segundos * 3600\n",
        "  print(valor_em_horas ,'segundos')\n",
        "\n",
        "\n",
        "horas_para_segundos(50)"
      ],
      "execution_count": 41,
      "outputs": [
        {
          "output_type": "stream",
          "text": [
            "180000 segundos\n"
          ],
          "name": "stdout"
        }
      ]
    },
    {
      "cell_type": "code",
      "metadata": {
        "colab": {
          "base_uri": "https://localhost:8080/"
        },
        "id": "R6eF9JbbqT7y",
        "outputId": "9530cf75-066b-4725-e34c-051200728028"
      },
      "source": [
        "#Função conversão de uma medida em segundos para horas\n",
        "def segundos_para_horas(valor_em_horas):\n",
        "  valor_em_segundos = valor_em_horas / 3600\n",
        "  print(valor_em_segundos ,'horas')\n",
        "\n",
        "\n",
        "segundos_para_horas(45)"
      ],
      "execution_count": 43,
      "outputs": [
        {
          "output_type": "stream",
          "text": [
            "0.0125 horas\n"
          ],
          "name": "stdout"
        }
      ]
    },
    {
      "cell_type": "code",
      "metadata": {
        "colab": {
          "base_uri": "https://localhost:8080/"
        },
        "id": "lRPQzt4XqrtR",
        "outputId": "3defe8ac-cbea-487a-8316-2931f206f571"
      },
      "source": [
        "#resolvendo novamente o primeiro exercício da semana passada\n",
        "def metros_para_milhas(valor_em_metros):\n",
        "  valor_em_milhas = valor_em_metros / 1609.34\n",
        "  print('D =',valor_em_milhas ,'milhas')\n",
        "\n",
        "\n",
        "metros_para_milhas(10*10**3)\n",
        "\n",
        "def minutos_para_horas(valor_em_minutos):\n",
        "  valor_em_horas = valor_em_minutos / 60\n",
        "  print('tempo = ',valor_em_horas ,'horas')\n",
        "\n",
        "\n",
        "minutos_para_horas(43.5)\n",
        "\n",
        "D = 6.213727366498068 \n",
        "tempo =  0.725 \n",
        "\n",
        "Vm = (D/tempo)\n",
        "Tm = (1/Vm)\n",
        "print('Vm =','{:02.2f}'.format(Vm), 'milhas/hora')\n",
        "print('Tm =','{:02.2f}'.format(Tm), 'h')"
      ],
      "execution_count": 56,
      "outputs": [
        {
          "output_type": "stream",
          "text": [
            "D = 6.213727366498068 milhas\n",
            "tempo =  0.725 horas\n",
            "Vm = 8.57 milhas/hora\n",
            "Tm = 0.12 h\n"
          ],
          "name": "stdout"
        }
      ]
    },
    {
      "cell_type": "code",
      "metadata": {
        "colab": {
          "base_uri": "https://localhost:8080/"
        },
        "id": "AABAP-3uyQRe",
        "outputId": "2dbc44a2-1f68-4452-a196-52d7958ef126"
      },
      "source": [
        "#Se uma pessoa demora 30 minutos em 4 milhas, qual velocidade media em km/h ? e o tempo medio por kilometro?\n",
        "def minutos_para_horas(valor_em_minutos):\n",
        "  valor_em_horas = valor_em_minutos / 60\n",
        "  print('tempo = ',valor_em_horas ,'horas')\n",
        "\n",
        "\n",
        "minutos_para_horas(30)\n",
        "\n",
        "def milhas_para_metros(valor_em_milhas):\n",
        "  valor_em_metros = valor_em_milhas * 1609.34\n",
        "  print('D =',valor_em_metros ,'metros')\n",
        "\n",
        "\n",
        "milhas_para_metros(4)\n",
        "\n",
        "tempo =  0.5 \n",
        "D = 6437.36 \n",
        "\n",
        "Vm = (D/tempo)\n",
        "Tm = (1/Vm)\n",
        "print('Vm =','{:02.2f}'.format(Vm), 'milhas/hora')\n",
        "print('Tm =','{:02.5f}'.format(Tm), 'h')\n"
      ],
      "execution_count": 63,
      "outputs": [
        {
          "output_type": "stream",
          "text": [
            "tempo =  0.5 horas\n",
            "D = 6437.36 metros\n",
            "Vm = 12874.72 milhas/hora\n",
            "Tm = 0.00008 h\n"
          ],
          "name": "stdout"
        }
      ]
    },
    {
      "cell_type": "markdown",
      "metadata": {
        "id": "EWxC4T19VpiH"
      },
      "source": [
        "**Exercício5:**\n",
        "Crie funções para calcular os outros exemplos das aulas anteriores: IMC, volume de uma esfera, distancia entre pontos de máximos de difração. Decida quais serão os argumentos e o valor retornado."
      ]
    },
    {
      "cell_type": "code",
      "metadata": {
        "colab": {
          "base_uri": "https://localhost:8080/",
          "height": 138
        },
        "id": "E8ACGY4FzFlV",
        "outputId": "a41e0725-cdff-4b30-950d-b1de9e2a119d"
      },
      "source": [
        "#IMC\n",
        "def IMC(pesoKg,altura_m):\n",
        "IMC = pesoKg / (altura_m**2)\n",
        " print('Meu IMC =',round(IMC,2))\n",
        " IMC = (52,161)"
      ],
      "execution_count": 66,
      "outputs": [
        {
          "output_type": "error",
          "ename": "IndentationError",
          "evalue": "ignored",
          "traceback": [
            "\u001b[0;36m  File \u001b[0;32m\"<ipython-input-66-52d54a20d66d>\"\u001b[0;36m, line \u001b[0;32m3\u001b[0m\n\u001b[0;31m    IMC = pesoKg / (altura_m**2)\u001b[0m\n\u001b[0m      ^\u001b[0m\n\u001b[0;31mIndentationError\u001b[0m\u001b[0;31m:\u001b[0m expected an indented block\n"
          ]
        }
      ]
    },
    {
      "cell_type": "code",
      "metadata": {
        "id": "GZhrWkk20Qjs"
      },
      "source": [
        "#volume de uma esfera\n",
        "from math import *\n",
        "def volume_esfera(raio):\n",
        "  v = (4*pi*(raio)**3)/(3)\n",
        "  print('Volume da esfera =',round(v,2))\n",
        "  volume_esfera(43)"
      ],
      "execution_count": 69,
      "outputs": []
    },
    {
      "cell_type": "code",
      "metadata": {
        "colab": {
          "base_uri": "https://localhost:8080/"
        },
        "id": "-7igsc-O0twS",
        "outputId": "8173f3ec-3bad-40fe-e431-6223866ee46d"
      },
      "source": [
        "#distancia entre pontos de máximos de difração\n",
        "\n",
        "def nm_to_m(x):\n",
        "  y = x*10**(-9)\n",
        "  return y\n",
        "\n",
        "def mm_to_m(x):\n",
        "  y = x*10**(-3)\n",
        "  return y\n",
        "\n",
        "def distancia_maximos_difracao(lambida,espacamento_fendas,distancia_anteparo):\n",
        "  d = (lambida * distancia_anteparo)/espacamento_fendas\n",
        "  print('Distância entre os máximos de difração=',round(d,3),'metros')\n",
        "\n",
        "distancia_maximos_difracao(nm_to_m(632.8),mm_to_m(0.250),1.98)\n"
      ],
      "execution_count": 70,
      "outputs": [
        {
          "output_type": "stream",
          "text": [
            "Distância entre os máximos de difração= 0.005 metros\n"
          ],
          "name": "stdout"
        }
      ]
    }
  ]
}