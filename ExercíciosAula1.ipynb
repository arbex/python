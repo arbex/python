{
  "nbformat": 4,
  "nbformat_minor": 0,
  "metadata": {
    "colab": {
      "name": "ExercíciosAula1.ipynb",
      "provenance": [],
      "authorship_tag": "ABX9TyMYM4FfTQa+7LzUdgl7Ovmz",
      "include_colab_link": true
    },
    "kernelspec": {
      "name": "python3",
      "display_name": "Python 3"
    },
    "language_info": {
      "name": "python"
    }
  },
  "cells": [
    {
      "cell_type": "markdown",
      "metadata": {
        "id": "view-in-github",
        "colab_type": "text"
      },
      "source": [
        "<a href=\"https://colab.research.google.com/github/arbex/python/blob/main/Exerc%C3%ADciosAula1.ipynb\" target=\"_parent\"><img src=\"https://colab.research.google.com/assets/colab-badge.svg\" alt=\"Open In Colab\"/></a>"
      ]
    },
    {
      "cell_type": "markdown",
      "metadata": {
        "id": "3-D9AmvkOSSg"
      },
      "source": [
        "***Resolução dos Exercícios Aula 1***\n",
        "\n",
        "**Exercício1:**\n",
        "Se você fizer uma corrida de 10 quilômetros em 43 minutos e 30 segundos, qual será seu tempo médio por milha? Qual é a sua velocidade média em milhas por hora? (Dica: há 1,61 quilômetros em uma milha)"
      ]
    },
    {
      "cell_type": "code",
      "metadata": {
        "colab": {
          "base_uri": "https://localhost:8080/"
        },
        "id": "y3PoaA_sO1CD",
        "outputId": "c4d2e7bf-88e5-46e3-e02d-8df950169054"
      },
      "source": [
        "print('1 milha -- 1.61 km', \n",
        "      '\\n D milhas  --  10 km',\n",
        "      '\\n D =','{:02.2f}'.format(D), 'milhas')\n",
        "D = 10/1.61\n",
        "print('1 hora -- 60 minutos',\n",
        "      '\\n t horas -- 43.5 minutos',\n",
        "      '\\n t =','{:02.2f}'.format(t), 'horas')\n",
        "t = 43.5/60\n",
        "\n",
        "print('Vm = D/t =','{:02.2f}'.format(Vm), 'milhas/hora') \n",
        "Vm = (D/t)\n"
      ],
      "execution_count": null,
      "outputs": [
        {
          "output_type": "stream",
          "text": [
            "1 milha -- 1.61 km \n",
            " D milhas  --  10 km \n",
            " D = 6.21 milhas\n",
            "1 hora -- 60 minutos \n",
            " t horas -- 43.5 minutos \n",
            " t = 0.72 horas\n",
            "Vm = D/t = 8.57 milhas/hora\n"
          ],
          "name": "stdout"
        }
      ]
    },
    {
      "cell_type": "markdown",
      "metadata": {
        "id": "3stO5gnfO3Q2"
      },
      "source": [
        "**Execício2:**\n",
        "Desde sua varanda você escuta o som do primeiro fogo artificial do reveillon 3 segundos depois de ver a luz, qual a distância? (o som tem velocidade 343 m/s e a luz $3\\times 10^8$ m/s)."
      ]
    },
    {
      "cell_type": "code",
      "metadata": {
        "colab": {
          "base_uri": "https://localhost:8080/"
        },
        "id": "HkzCuWKOZ-9q",
        "outputId": "0dff6241-0e0c-4e68-bb07-5c661e7b8365"
      },
      "source": [
        "print('343 metros -- 1 segundo', \n",
        "      '\\n d metros --  3 segundos',\n",
        "      '\\n d =','{:02.2f}'.format(d), 'metros')\n",
        "d = 343*3\n"
      ],
      "execution_count": null,
      "outputs": [
        {
          "output_type": "stream",
          "text": [
            "343 metros -- 1 segundo \n",
            " d metros --  3 segundos \n",
            " d = 1029.00 metros\n"
          ],
          "name": "stdout"
        }
      ]
    },
    {
      "cell_type": "markdown",
      "metadata": {
        "id": "akrxQfTgRE10"
      },
      "source": [
        "**Exercício3:**\n",
        "Ache os zeros da função\n",
        " \n",
        "$ y = 3x^2 - 4x -10 $"
      ]
    },
    {
      "cell_type": "code",
      "metadata": {
        "colab": {
          "base_uri": "https://localhost:8080/"
        },
        "id": "__VC9rCda2Ay",
        "outputId": "712cc85c-17bb-4973-b469-488faf2154cb"
      },
      "source": [
        "import math\n",
        "a = 3\n",
        "b = -4\n",
        "c = -10\n",
        "delta = (b**2)-(4*a*c)\n",
        "x1 = (-b +  math.sqrt(delta))/(2*a)\n",
        "x2 = (-b -  math.sqrt(delta))/(2*a)\n",
        "print('x1 = {:02.2f}'.format(x1),'; x2 = {:02.2f}'.format(x2))\n"
      ],
      "execution_count": null,
      "outputs": [
        {
          "output_type": "stream",
          "text": [
            "x1 = 2.61 ; x2 = -1.28\n"
          ],
          "name": "stdout"
        }
      ]
    },
    {
      "cell_type": "markdown",
      "metadata": {
        "id": "yrZabkIpe7tm"
      },
      "source": [
        "***Exercício4:***\n",
        "\n",
        "![exercicio 4.jfif](data:image/jpeg;base64,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)\n",
        "\n",
        "\n",
        "Se, ao meio-dia, a sombra de um poste de 5 m de altura tem apenas 50 cm de comprimento no chão, qual o ângulo zenital do sol? "
      ]
    },
    {
      "cell_type": "code",
      "metadata": {
        "colab": {
          "base_uri": "https://localhost:8080/"
        },
        "id": "TRayunU5ehv2",
        "outputId": "a91b8ffd-d450-4826-80b9-80638ee18f35"
      },
      "source": [
        "import math\n",
        "math.tan(0.5/5)\n"
      ],
      "execution_count": null,
      "outputs": [
        {
          "output_type": "execute_result",
          "data": {
            "text/plain": [
              "0.10033467208545055"
            ]
          },
          "metadata": {},
          "execution_count": 103
        }
      ]
    },
    {
      "cell_type": "markdown",
      "metadata": {
        "id": "ThaFVzvEjjCC"
      },
      "source": [
        "**Exercício5:**\n",
        "Calcule o seu IMC: $IMC = M / A^2$ (com a massa em Kg e a altura em metros). Um valor saudável estara --em geral-- entre 20-25. Um bebê de 6 meses \"gorducho\" tem 70 cm de \"comprimento\" e 11 kg de massa, qual o IMC dele?"
      ]
    },
    {
      "cell_type": "code",
      "metadata": {
        "colab": {
          "base_uri": "https://localhost:8080/"
        },
        "id": "1Tmr_n808T4y",
        "outputId": "2bddb0cd-5799-421e-9472-f6a244742bd6"
      },
      "source": [
        "\n",
        "M = 52\n",
        "A = 1.61\n",
        "\n",
        "IMC = M/A**2\n",
        "\n",
        "print('IMC =', round(IMC,2))"
      ],
      "execution_count": 7,
      "outputs": [
        {
          "output_type": "stream",
          "text": [
            "IMC = 20.06\n"
          ],
          "name": "stdout"
        }
      ]
    },
    {
      "cell_type": "code",
      "metadata": {
        "colab": {
          "base_uri": "https://localhost:8080/"
        },
        "id": "wwOB4u7b9ONR",
        "outputId": "3a015a96-4ff0-4bcc-8123-a3ad81e6a813"
      },
      "source": [
        "M = 11\n",
        "A = 0.7\n",
        "\n",
        "IMC = M/A**2\n",
        "\n",
        "print('IMC =', round(IMC,2))"
      ],
      "execution_count": 8,
      "outputs": [
        {
          "output_type": "stream",
          "text": [
            "IMC = 22.45\n"
          ],
          "name": "stdout"
        }
      ]
    },
    {
      "cell_type": "markdown",
      "metadata": {
        "id": "MFfMsasqmd07"
      },
      "source": [
        "**Exercício6:**\n",
        "Calcule a velocidade final de um objeto em queda livre a partir de 3 metros de altura (sem resistencia do ar). Calcule o tempo que esse objeto demora para cair."
      ]
    },
    {
      "cell_type": "code",
      "metadata": {
        "colab": {
          "base_uri": "https://localhost:8080/"
        },
        "id": "PP333VWP9e5v",
        "outputId": "48eb5a11-e13f-4b85-9c86-b956571de783"
      },
      "source": [
        "from math import *\n",
        "\n",
        "h = 3\n",
        "g = 9.8\n",
        "\n",
        "T = sqrt((2*h)/g)\n",
        "v = g * T\n",
        "\n",
        "print('Tempo de queda:','T =', round(T,2),'s')\n",
        "\n",
        "print('Velocidade final:','v =', round(v),'m/s')"
      ],
      "execution_count": 14,
      "outputs": [
        {
          "output_type": "stream",
          "text": [
            "Tempo de queda: T = 0.78 s\n",
            "Velocidade final: v = 8 m/s\n"
          ],
          "name": "stdout"
        }
      ]
    }
  ]
}