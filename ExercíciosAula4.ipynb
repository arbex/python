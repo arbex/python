{
  "nbformat": 4,
  "nbformat_minor": 0,
  "metadata": {
    "colab": {
      "name": "ExercíciosAula4.ipynb",
      "provenance": [],
      "authorship_tag": "ABX9TyMPF8Rer29m0iXSdcz2/8Ki",
      "include_colab_link": true
    },
    "kernelspec": {
      "name": "python3",
      "display_name": "Python 3"
    },
    "language_info": {
      "name": "python"
    }
  },
  "cells": [
    {
      "cell_type": "markdown",
      "metadata": {
        "id": "view-in-github",
        "colab_type": "text"
      },
      "source": [
        "<a href=\"https://colab.research.google.com/github/arbex/python/blob/main/Exerc%C3%ADciosAula4.ipynb\" target=\"_parent\"><img src=\"https://colab.research.google.com/assets/colab-badge.svg\" alt=\"Open In Colab\"/></a>"
      ]
    },
    {
      "cell_type": "markdown",
      "metadata": {
        "id": "3-D9AmvkOSSg"
      },
      "source": [
        "**Exercício:**\n",
        "\n",
        "\n",
        "1. Escreva uma função com um valor de retorno que:\n",
        "\n",
        "  - tome como input dois argumentos;\n",
        "  - execute a soma dos dois parâmetros que foram passados como argumento e atribua o resultado a uma variável;\n",
        "  - tenha como valor de retorno o dobro da soma dos dois parâmetros.\n",
        "\n"
      ]
    },
    {
      "cell_type": "code",
      "metadata": {
        "colab": {
          "base_uri": "https://localhost:8080/"
        },
        "id": "y7Wdd8FUFUJb",
        "outputId": "a774e7ba-91c5-4843-e680-530b28b8a305"
      },
      "source": [
        "def triplo_subtracao(x,y): \n",
        "    \n",
        "  return 3*(x-y)\n",
        "\n",
        "triplo_subtracao(56,59)"
      ],
      "execution_count": 7,
      "outputs": [
        {
          "output_type": "execute_result",
          "data": {
            "text/plain": [
              "-9"
            ]
          },
          "metadata": {},
          "execution_count": 7
        }
      ]
    },
    {
      "cell_type": "markdown",
      "metadata": {
        "id": "sx2gZQoTFds1"
      },
      "source": [
        "2. Um objeto de função é um valor que você pode atribuir a uma variável ou passar como um argumento. Por exemplo, do_twice é uma função que usa um objeto de função como argumento e o chama duas vezes:\n",
        "\n",
        "\n",
        "Para este exercício :\n",
        "\n",
        "a. Digite este exemplo em um script e teste-o.\n",
        "\n",
        "b. Modifique do_twice para que sejam necessários dois argumentos, um objeto de função f e um valor x, e chame a função duas vezes, passando o valor como um argumento.\n",
        "\n",
        "c. Escreva uma versão mais geral de print_spam, chamada print_twice, que use uma string como parâmetro e imprima duas vezes.\n",
        "\n",
        "d. Use a versão modificada (no item b) de do_twice para chamar print_twice duas vezes, passando 'spam' como um argumento.\n",
        "\n",
        "e. Defina uma nova função chamada do_four que recebe um objeto de função e um valor e chama a função quatro vezes, passando o valor como um parâmetro. Deve haver apenas duas declarações no corpo desta função, e não quatro.\n",
        "\n"
      ]
    },
    {
      "cell_type": "code",
      "metadata": {
        "colab": {
          "base_uri": "https://localhost:8080/"
        },
        "id": "c3eE3GB2FzQG",
        "outputId": "97bea785-73a3-4351-d101-420ee693de97"
      },
      "source": [
        "#a. \n",
        "def do_twice (f): \n",
        "    f () \n",
        "    f ()\n",
        "\n",
        "def print_spam (): \n",
        "    print('spam') \n",
        "\n",
        "do_twice (print_spam)"
      ],
      "execution_count": 11,
      "outputs": [
        {
          "output_type": "stream",
          "text": [
            "spam\n",
            "spam\n"
          ],
          "name": "stdout"
        }
      ]
    },
    {
      "cell_type": "code",
      "metadata": {
        "colab": {
          "base_uri": "https://localhost:8080/"
        },
        "id": "Lb7UkuRaGIHZ",
        "outputId": "c36064d8-7bf6-426e-a620-b689be7f61f3"
      },
      "source": [
        "#b.\n",
        "def do_twice(f,x): \n",
        "    f(x) \n",
        "    f(x)\n",
        "\n",
        "def print_spam(x): \n",
        "    print(x) \n",
        "\n",
        "do_twice (print_spam, \"spam\")"
      ],
      "execution_count": 12,
      "outputs": [
        {
          "output_type": "stream",
          "text": [
            "spam\n",
            "spam\n"
          ],
          "name": "stdout"
        }
      ]
    },
    {
      "cell_type": "code",
      "metadata": {
        "colab": {
          "base_uri": "https://localhost:8080/"
        },
        "id": "k6gyKzQqGPqy",
        "outputId": "cfd59420-f253-43ad-afa7-d9128de0a8d1"
      },
      "source": [
        "#c.#d.\n",
        "def do_twice(f,x): \n",
        "    f(x) \n",
        "    f(x)\n",
        "\n",
        "def print_spam(x): \n",
        "    print(x) \n",
        "\n",
        "do_twice (print_spam, \"spam\")"
      ],
      "execution_count": 13,
      "outputs": [
        {
          "output_type": "stream",
          "text": [
            "spam\n",
            "spam\n"
          ],
          "name": "stdout"
        }
      ]
    },
    {
      "cell_type": "code",
      "metadata": {
        "colab": {
          "base_uri": "https://localhost:8080/"
        },
        "id": "q3qr88J4GaBg",
        "outputId": "154fd5e5-614f-44fe-e633-d7cac9ba42d3"
      },
      "source": [
        "#e.\n",
        "def do_twice(f,x): \n",
        "    f(x) \n",
        "    f(x)\n",
        "\n",
        "def do_four(f,x): \n",
        "    do_twice(f,x)\n",
        "    do_twice(f,x)\n",
        "\n",
        "def print_spam(x): \n",
        "    print(x) \n",
        "\n",
        "do_four(print_spam, \"spam \")"
      ],
      "execution_count": 14,
      "outputs": [
        {
          "output_type": "stream",
          "text": [
            "spam \n",
            "spam \n",
            "spam \n",
            "spam \n"
          ],
          "name": "stdout"
        }
      ]
    }
  ]
}