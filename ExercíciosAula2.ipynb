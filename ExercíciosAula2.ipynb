{
  "nbformat": 4,
  "nbformat_minor": 0,
  "metadata": {
    "colab": {
      "name": "ExercíciosAula2",
      "provenance": [],
      "authorship_tag": "ABX9TyNBuRFL2mcBVwo4hOdpXvfP",
      "include_colab_link": true
    },
    "kernelspec": {
      "name": "python3",
      "display_name": "Python 3"
    },
    "language_info": {
      "name": "python"
    }
  },
  "cells": [
    {
      "cell_type": "markdown",
      "metadata": {
        "id": "view-in-github",
        "colab_type": "text"
      },
      "source": [
        "<a href=\"https://colab.research.google.com/github/arbex/python/blob/main/Exerc%C3%ADciosAula2.ipynb\" target=\"_parent\"><img src=\"https://colab.research.google.com/assets/colab-badge.svg\" alt=\"Open In Colab\"/></a>"
      ]
    },
    {
      "cell_type": "markdown",
      "metadata": {
        "id": "JkI_1Dqb0bng"
      },
      "source": [
        "**Exercício 1:**\n",
        "Considere as seguintes declarações de atribuições:\n",
        "   * largura = 17 \n",
        "   * altura = 12.0\n",
        "   * delimitador = \".\"\n",
        "   \n",
        "Para cada uma das expressões a seguir, escreva o valor das expressões e o tipo (do valor da expressão):\n",
        "1. largura/2 = 8.5 (float)\n",
        "1. largura/2.0 = 8.5 (float)\n",
        "1. altura/3 = 4 (float)\n",
        "1. 1 + 2 * 5 = 11 (int)\n",
        "1. delimitador*5 = ..... (str)\n",
        "\n",
        "Use o interpretador de python para verificar suas respostas."
      ]
    },
    {
      "cell_type": "code",
      "metadata": {
        "colab": {
          "base_uri": "https://localhost:8080/"
        },
        "id": "GQuoBuwbOA1w",
        "outputId": "edccd84d-985e-48fc-99f8-f862bedb577b"
      },
      "source": [
        "largura = 17\n",
        "altura = 12.0\n",
        "delimitador = \".\"\n",
        "\n",
        "a = largura/2\n",
        "b = largura/2.0 \n",
        "c = altura/3 \n",
        "d = 1 + 2*5 \n",
        "e = delimitador*5 \n",
        "\n",
        "print('largura/2 =',a, type(a))\n",
        "\n",
        "print('altura/3 =',c,type(c))\n",
        "\n",
        "print('1 + 2*5=',d,type(d))\n",
        "\n",
        "print('delimitador*5',e,type(e))\n",
        "\n"
      ],
      "execution_count": 13,
      "outputs": [
        {
          "output_type": "stream",
          "text": [
            "largura/2 = 8.5 <class 'float'>\n",
            "altura/3 = 4.0 <class 'float'>\n",
            "1 + 2*5= 11 <class 'int'>\n",
            "delimitador*5 ..... <class 'str'>\n"
          ],
          "name": "stdout"
        }
      ]
    },
    {
      "cell_type": "markdown",
      "metadata": {
        "id": "lmX_xsfc45pj"
      },
      "source": [
        "**Exercício 2:**\n",
        "\n",
        "> Bloco com recuo\n",
        "\n",
        "\n",
        "O volume de uma esfera de raio *r* é $\\frac{4}{3} \\pi r^{3}$ \n",
        "\n",
        "Qual é o volume de uma esfera de raio 5?\n",
        "\n"
      ]
    },
    {
      "cell_type": "code",
      "metadata": {
        "colab": {
          "base_uri": "https://localhost:8080/"
        },
        "id": "TiopZICjPv7C",
        "outputId": "4236f0f5-d355-49b1-984c-ec2f71522787"
      },
      "source": [
        "from math import *\n",
        "r = 5\n",
        "V = (4/3)*pi*(r**3)\n",
        "\n",
        "print('Volume da esfera:','V =', round(V),'u.a')\n"
      ],
      "execution_count": 20,
      "outputs": [
        {
          "output_type": "stream",
          "text": [
            "Volume da esfera: V = 524 u.a\n"
          ],
          "name": "stdout"
        }
      ]
    },
    {
      "cell_type": "markdown",
      "metadata": {
        "id": "N3FQAMd85MO5"
      },
      "source": [
        "**Exercício 3:**\n",
        "Suponha que o preço de um livro seja 24.95 reais, porém as livrarias têm desconto de 40%. Os custos de envio são de 3.00 reais para o primeiro livro e 0.75 reais para os livros adicionais. Qual é o custo total da compra de 60 livros?  \n"
      ]
    },
    {
      "cell_type": "code",
      "metadata": {
        "colab": {
          "base_uri": "https://localhost:8080/"
        },
        "id": "5sxprDSQQ_I3",
        "outputId": "f0cda62a-70a3-451f-c70a-099827e3af76"
      },
      "source": [
        "preço_livro = 24.95\n",
        "desconto = 40/100\n",
        "envio = 3.00\n",
        "envio2 = 0.75\n",
        "total_de_livros = 60\n",
        "\n",
        "preço_total = preço_livro*total_de_livros\n",
        "preço_desconto = (preço_total) - (preço_total*desconto)\n",
        "frete = envio + (59*envio2)\n",
        "\n",
        "\n",
        "print('Valor total =','R$',round(preço_desconto + frete))"
      ],
      "execution_count": 29,
      "outputs": [
        {
          "output_type": "stream",
          "text": [
            "Valor total = R$ 945\n"
          ],
          "name": "stdout"
        }
      ]
    },
    {
      "cell_type": "markdown",
      "metadata": {
        "id": "kWZFds895SNj"
      },
      "source": [
        "**Exercício 4:**\n",
        "Um laser vermelho (com comprimento de onda $\\lambda = 632.8$ nm) incide em uma fenda dupla produzindo um padrão de interferência com franjas claras e escuras, em um anteparo situado a uma distância D = 1.98 m da fenda. Calcule a distância $\\Delta y$ entre dois máximos consecutivos de interferência. Considere o espaçamento entre as fendas, $d$, como sendo igual a 0.250 mm.\n",
        "*Dica: a distância entre dois máximos de interferência consecutivos pode ser aproximada por $\\Delta y = \\frac{\\lambda D}{d}$.*"
      ]
    },
    {
      "cell_type": "code",
      "metadata": {
        "colab": {
          "base_uri": "https://localhost:8080/"
        },
        "id": "_W0LSbXHUrnP",
        "outputId": "c6580cde-aac7-4c22-f1b8-e221174fee3b"
      },
      "source": [
        "lambida = 632.8*10**-9\n",
        "D = 1.98\n",
        "d = 0.250*10**-3\n",
        "deltaY = (lambida*D)/d\n",
        "\n",
        "print('Distância Δy = ','{:01.5f}'.format(deltaY),'metros')\n",
        "\n"
      ],
      "execution_count": 39,
      "outputs": [
        {
          "output_type": "stream",
          "text": [
            "Distância Δy =  0.00501 metros\n"
          ],
          "name": "stdout"
        }
      ]
    }
  ]
}